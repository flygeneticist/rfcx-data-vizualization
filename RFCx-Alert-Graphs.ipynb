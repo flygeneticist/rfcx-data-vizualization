{
 "metadata": {
  "name": "",
  "signature": "sha256:68f1913b7c4ccf307a5bdffb13806aaf65e66f426c3b087b12d914cf76513c58"
 },
 "nbformat": 3,
 "nbformat_minor": 0,
 "worksheets": [
  {
   "cells": [
    {
     "cell_type": "heading",
     "level": 3,
     "metadata": {},
     "source": [
      "Load packages and data into Python for manipluation"
     ]
    },
    {
     "cell_type": "code",
     "collapsed": false,
     "input": [
      "%pylab inline\n",
      "import json\n",
      "import pandas as pd\n",
      "import numpy as np\n",
      "import matplotlib.pyplot as plt"
     ],
     "language": "python",
     "metadata": {},
     "outputs": [
      {
       "output_type": "stream",
       "stream": "stdout",
       "text": [
        "Populating the interactive namespace from numpy and matplotlib\n"
       ]
      }
     ],
     "prompt_number": 46
    },
    {
     "cell_type": "code",
     "collapsed": false,
     "input": [
      "# script parameters for tweaking graph looks \n",
      "guid_pivot_xmax = 20 # x-axis limit for guid graph"
     ],
     "language": "python",
     "metadata": {},
     "outputs": [],
     "prompt_number": 47
    },
    {
     "cell_type": "code",
     "collapsed": false,
     "input": [
      "# placeholder JSON data for dev work\n",
      "json_obj = \"\"\"\n",
      "[\n",
      "{\"alert_datetime\":\"01/30/2015 09:00:00\", \"guid\":\"A\", \"sound_type\":\"truck\"},\n",
      "{\"alert_datetime\":\"01/26/2015 05:00:00\", \"guid\":\"A\", \"sound_type\":\"truck\"},\n",
      "{\"alert_datetime\":\"01/31/2015 11:00:00\", \"guid\":\"A\", \"sound_type\":\"truck\"},\n",
      "{\"alert_datetime\":\"01/25/2015 17:00:00\", \"guid\":\"A\", \"sound_type\":\"motorcycle\"},\n",
      "{\"alert_datetime\":\"01/27/2015 08:00:00\", \"guid\":\"A\", \"sound_type\":\"truck\"},\n",
      "{\"alert_datetime\":\"01/25/2015 13:10:00\", \"guid\":\"B\", \"sound_type\":\"truck\"},\n",
      "{\"alert_datetime\":\"01/26/2015 22:00:00\", \"guid\":\"B\", \"sound_type\":\"motorcycle\"},\n",
      "{\"alert_datetime\":\"01/29/2015 16:00:00\", \"guid\":\"B\", \"sound_type\":\"truck\"},\n",
      "{\"alert_datetime\":\"01/31/2015 12:00:00\", \"guid\":\"B\", \"sound_type\":\"truck\"},\n",
      "{\"alert_datetime\":\"01/26/2015 15:00:00\", \"guid\":\"B\", \"sound_type\":\"truck\"},\n",
      "{\"alert_datetime\":\"01/26/2015 18:00:00\", \"guid\":\"B\", \"sound_type\":\"truck\"},\n",
      "{\"alert_datetime\":\"01/29/2015 12:00:00\", \"guid\":\"B\", \"sound_type\":\"motorcycle\"},\n",
      "{\"alert_datetime\":\"01/28/2015 14:00:00\", \"guid\":\"B\", \"sound_type\":\"truck\"},\n",
      "{\"alert_datetime\":\"01/25/2015 13:00:00\", \"guid\":\"B\", \"sound_type\":\"truck\"},\n",
      "{\"alert_datetime\":\"01/29/2015 08:00:00\", \"guid\":\"C\", \"sound_type\":\"motorcycle\"},\n",
      "{\"alert_datetime\":\"01/27/2015 20:00:00\", \"guid\":\"C\", \"sound_type\":\"truck\"},\n",
      "{\"alert_datetime\":\"01/28/2015 19:00:00\", \"guid\":\"C\", \"sound_type\":\"truck\"},\n",
      "{\"alert_datetime\":\"01/31/2015 06:00:00\", \"guid\":\"C\", \"sound_type\":\"truck\"},\n",
      "{\"alert_datetime\":\"01/27/2015 21:00:00\", \"guid\":\"C\", \"sound_type\":\"truck\"}\n",
      "]\n",
      "\"\"\""
     ],
     "language": "python",
     "metadata": {},
     "outputs": [],
     "prompt_number": 48
    },
    {
     "cell_type": "code",
     "collapsed": false,
     "input": [
      "# Load the JSON data into a Pandas DataFrame\n",
      "data = json.loads(json_obj)\n",
      "df = pd.io.json.json_normalize(data)\n",
      "# Ensure column types are cast correctly\n",
      "df['alert_datetime'] = pd.to_datetime(df['alert_datetime'])\n",
      "df['guid'] = df['guid'].astype(str)"
     ],
     "language": "python",
     "metadata": {},
     "outputs": [],
     "prompt_number": 49
    },
    {
     "cell_type": "heading",
     "level": 3,
     "metadata": {},
     "source": [
      "Create weekday/hours/day-night data and labels"
     ]
    },
    {
     "cell_type": "code",
     "collapsed": false,
     "input": [
      "weekdays = 'Mon Tue Wed Thu Fri Sat Sun'.split()   \n",
      "weekday_map= {1:'MON', 2:'TUE', 3:'WED', 4:'THU',\n",
      "              5:'FRI', 6:'SAT', 7:'SUN'}\n",
      "\n",
      "# re-defines the weekday label\n",
      "def weekday_label(x, wkdays=weekdays):\n",
      "    return wkdays[x-1]\n",
      " \n",
      "df['weekday'] = df['alert_datetime'].map(lambda x: x.isocalendar()[2])"
     ],
     "language": "python",
     "metadata": {},
     "outputs": [],
     "prompt_number": 95
    },
    {
     "cell_type": "code",
     "collapsed": false,
     "input": [
      "step = 2 # hours to group by\n",
      "hours = range(0,24,step) # complete range of hour time-slots   \n",
      "\n",
      "# defines the grouping of hours \n",
      "def group_hours(y, hours=hours, step=step):\n",
      "    for h in hours:\n",
      "        if (y >= h and y < h+2):\n",
      "            return h      \n",
      " \n",
      "df['hour'] = df['alert_datetime'].map(lambda y: group_hours(y.hour))"
     ],
     "language": "python",
     "metadata": {},
     "outputs": [],
     "prompt_number": 70
    },
    {
     "cell_type": "code",
     "collapsed": false,
     "input": [
      "# defines day vs night hours (night = 18:00-05:00)\n",
      "def day_night(z):\n",
      "    if (z < 5 or z > 18):\n",
      "        return 'night'\n",
      "    else:\n",
      "        return 'day'\n",
      "\n",
      "df['day_night'] = df['hour'].map(lambda z: day_night(z))"
     ],
     "language": "python",
     "metadata": {},
     "outputs": [],
     "prompt_number": 71
    },
    {
     "cell_type": "code",
     "collapsed": false,
     "input": [
      "# Quick reference to unique lists of various columns\n",
      "types = sorted(list(set(df['sound_type'])))\n",
      "guids = sorted(list(set(df['guid'])))\n",
      "dates = sorted(list(set(df['alert_datetime'])))\n",
      "wd = range(1,8)"
     ],
     "language": "python",
     "metadata": {},
     "outputs": [],
     "prompt_number": 105
    },
    {
     "cell_type": "heading",
     "level": 3,
     "metadata": {},
     "source": [
      "Create pivot tables of data"
     ]
    },
    {
     "cell_type": "code",
     "collapsed": false,
     "input": [
      "# create pivot tables of data for plotting\n",
      "# data sorted by guid name\n",
      "guid_pivot = df.pivot_table(index=['guid'], columns=['sound_type'],\n",
      "                            values=['alert_datetime'], aggfunc='count').fillna(0)\n",
      "guid_pivot"
     ],
     "language": "python",
     "metadata": {},
     "outputs": [
      {
       "html": [
        "<div style=\"max-height:1000px;max-width:1500px;overflow:auto;\">\n",
        "<table border=\"1\" class=\"dataframe\">\n",
        "  <thead>\n",
        "    <tr>\n",
        "      <th></th>\n",
        "      <th colspan=\"2\" halign=\"left\">alert_datetime</th>\n",
        "    </tr>\n",
        "    <tr>\n",
        "      <th>sound_type</th>\n",
        "      <th>motorcycle</th>\n",
        "      <th>truck</th>\n",
        "    </tr>\n",
        "    <tr>\n",
        "      <th>guid</th>\n",
        "      <th></th>\n",
        "      <th></th>\n",
        "    </tr>\n",
        "  </thead>\n",
        "  <tbody>\n",
        "    <tr>\n",
        "      <th>A</th>\n",
        "      <td> 1</td>\n",
        "      <td> 4</td>\n",
        "    </tr>\n",
        "    <tr>\n",
        "      <th>B</th>\n",
        "      <td> 2</td>\n",
        "      <td> 7</td>\n",
        "    </tr>\n",
        "    <tr>\n",
        "      <th>C</th>\n",
        "      <td> 1</td>\n",
        "      <td> 4</td>\n",
        "    </tr>\n",
        "  </tbody>\n",
        "</table>\n",
        "</div>"
       ],
       "metadata": {},
       "output_type": "pyout",
       "prompt_number": 73,
       "text": [
        "           alert_datetime      \n",
        "sound_type     motorcycle truck\n",
        "guid                           \n",
        "A                       1     4\n",
        "B                       2     7\n",
        "C                       1     4"
       ]
      }
     ],
     "prompt_number": 73
    },
    {
     "cell_type": "code",
     "collapsed": false,
     "input": [
      "# data sorted by hour of day\n",
      "hr_pivot = df.pivot_table(  index=['hour'], columns=['sound_type'],\n",
      "                            values=['alert_datetime'], aggfunc='count').fillna(0)\n",
      "hr_pivot"
     ],
     "language": "python",
     "metadata": {},
     "outputs": [
      {
       "html": [
        "<div style=\"max-height:1000px;max-width:1500px;overflow:auto;\">\n",
        "<table border=\"1\" class=\"dataframe\">\n",
        "  <thead>\n",
        "    <tr>\n",
        "      <th></th>\n",
        "      <th colspan=\"2\" halign=\"left\">alert_datetime</th>\n",
        "    </tr>\n",
        "    <tr>\n",
        "      <th>sound_type</th>\n",
        "      <th>motorcycle</th>\n",
        "      <th>truck</th>\n",
        "    </tr>\n",
        "    <tr>\n",
        "      <th>hour</th>\n",
        "      <th></th>\n",
        "      <th></th>\n",
        "    </tr>\n",
        "  </thead>\n",
        "  <tbody>\n",
        "    <tr>\n",
        "      <th>4 </th>\n",
        "      <td> 0</td>\n",
        "      <td> 1</td>\n",
        "    </tr>\n",
        "    <tr>\n",
        "      <th>6 </th>\n",
        "      <td> 0</td>\n",
        "      <td> 1</td>\n",
        "    </tr>\n",
        "    <tr>\n",
        "      <th>8 </th>\n",
        "      <td> 1</td>\n",
        "      <td> 2</td>\n",
        "    </tr>\n",
        "    <tr>\n",
        "      <th>10</th>\n",
        "      <td> 0</td>\n",
        "      <td> 1</td>\n",
        "    </tr>\n",
        "    <tr>\n",
        "      <th>12</th>\n",
        "      <td> 1</td>\n",
        "      <td> 3</td>\n",
        "    </tr>\n",
        "    <tr>\n",
        "      <th>14</th>\n",
        "      <td> 0</td>\n",
        "      <td> 2</td>\n",
        "    </tr>\n",
        "    <tr>\n",
        "      <th>16</th>\n",
        "      <td> 1</td>\n",
        "      <td> 1</td>\n",
        "    </tr>\n",
        "    <tr>\n",
        "      <th>18</th>\n",
        "      <td> 0</td>\n",
        "      <td> 2</td>\n",
        "    </tr>\n",
        "    <tr>\n",
        "      <th>20</th>\n",
        "      <td> 0</td>\n",
        "      <td> 2</td>\n",
        "    </tr>\n",
        "    <tr>\n",
        "      <th>22</th>\n",
        "      <td> 1</td>\n",
        "      <td> 0</td>\n",
        "    </tr>\n",
        "  </tbody>\n",
        "</table>\n",
        "</div>"
       ],
       "metadata": {},
       "output_type": "pyout",
       "prompt_number": 74,
       "text": [
        "           alert_datetime      \n",
        "sound_type     motorcycle truck\n",
        "hour                           \n",
        "4                       0     1\n",
        "6                       0     1\n",
        "8                       1     2\n",
        "10                      0     1\n",
        "12                      1     3\n",
        "14                      0     2\n",
        "16                      1     1\n",
        "18                      0     2\n",
        "20                      0     2\n",
        "22                      1     0"
       ]
      }
     ],
     "prompt_number": 74
    },
    {
     "cell_type": "code",
     "collapsed": false,
     "input": [
      "# data sorted by day of week\n",
      "day_pivot = df.pivot_table(   index=['weekday'], columns=['sound_type'],\n",
      "                                values=['alert_datetime'], aggfunc='count').fillna(0)\n",
      "day_pivot"
     ],
     "language": "python",
     "metadata": {},
     "outputs": [
      {
       "html": [
        "<div style=\"max-height:1000px;max-width:1500px;overflow:auto;\">\n",
        "<table border=\"1\" class=\"dataframe\">\n",
        "  <thead>\n",
        "    <tr>\n",
        "      <th></th>\n",
        "      <th colspan=\"2\" halign=\"left\">alert_datetime</th>\n",
        "    </tr>\n",
        "    <tr>\n",
        "      <th>sound_type</th>\n",
        "      <th>motorcycle</th>\n",
        "      <th>truck</th>\n",
        "    </tr>\n",
        "    <tr>\n",
        "      <th>weekday</th>\n",
        "      <th></th>\n",
        "      <th></th>\n",
        "    </tr>\n",
        "  </thead>\n",
        "  <tbody>\n",
        "    <tr>\n",
        "      <th>1</th>\n",
        "      <td> 1</td>\n",
        "      <td> 3</td>\n",
        "    </tr>\n",
        "    <tr>\n",
        "      <th>2</th>\n",
        "      <td> 0</td>\n",
        "      <td> 3</td>\n",
        "    </tr>\n",
        "    <tr>\n",
        "      <th>3</th>\n",
        "      <td> 0</td>\n",
        "      <td> 2</td>\n",
        "    </tr>\n",
        "    <tr>\n",
        "      <th>4</th>\n",
        "      <td> 2</td>\n",
        "      <td> 1</td>\n",
        "    </tr>\n",
        "    <tr>\n",
        "      <th>5</th>\n",
        "      <td> 0</td>\n",
        "      <td> 1</td>\n",
        "    </tr>\n",
        "    <tr>\n",
        "      <th>6</th>\n",
        "      <td> 0</td>\n",
        "      <td> 3</td>\n",
        "    </tr>\n",
        "    <tr>\n",
        "      <th>7</th>\n",
        "      <td> 1</td>\n",
        "      <td> 2</td>\n",
        "    </tr>\n",
        "  </tbody>\n",
        "</table>\n",
        "</div>"
       ],
       "metadata": {},
       "output_type": "pyout",
       "prompt_number": 96,
       "text": [
        "           alert_datetime      \n",
        "sound_type     motorcycle truck\n",
        "weekday                        \n",
        "1                       1     3\n",
        "2                       0     3\n",
        "3                       0     2\n",
        "4                       2     1\n",
        "5                       0     1\n",
        "6                       0     3\n",
        "7                       1     2"
       ]
      }
     ],
     "prompt_number": 96
    },
    {
     "cell_type": "code",
     "collapsed": false,
     "input": [
      "# data sorted by high level, day  vs night\n",
      "nightDay_pivot = df.pivot_table(   index=['day_night'], values=['alert_datetime'], aggfunc='count').fillna(0)\n",
      "nightDay_pivot"
     ],
     "language": "python",
     "metadata": {},
     "outputs": [
      {
       "html": [
        "<div style=\"max-height:1000px;max-width:1500px;overflow:auto;\">\n",
        "<table border=\"1\" class=\"dataframe\">\n",
        "  <thead>\n",
        "    <tr style=\"text-align: right;\">\n",
        "      <th></th>\n",
        "      <th>alert_datetime</th>\n",
        "    </tr>\n",
        "    <tr>\n",
        "      <th>day_night</th>\n",
        "      <th></th>\n",
        "    </tr>\n",
        "  </thead>\n",
        "  <tbody>\n",
        "    <tr>\n",
        "      <th>day</th>\n",
        "      <td> 15</td>\n",
        "    </tr>\n",
        "    <tr>\n",
        "      <th>night</th>\n",
        "      <td>  4</td>\n",
        "    </tr>\n",
        "  </tbody>\n",
        "</table>\n",
        "</div>"
       ],
       "metadata": {},
       "output_type": "pyout",
       "prompt_number": 76,
       "text": [
        "           alert_datetime\n",
        "day_night                \n",
        "day                    15\n",
        "night                   4"
       ]
      }
     ],
     "prompt_number": 76
    },
    {
     "cell_type": "heading",
     "level": 3,
     "metadata": {},
     "source": [
      "Plot the data into figures"
     ]
    },
    {
     "cell_type": "code",
     "collapsed": false,
     "input": [
      "# Create a colormap from the \"Tableau Color Blind 10\" color scheme.\n",
      "palette = [ (0,107,164),(255,128,14),(171,171,171),(89,89,89),(95,158,209),\n",
      "            (200,82,0),(137,137,137),(162,200,236),(255,188,121),(207,207,207)]\n",
      "# Scale the RGB values to the [0, 1] range, which is the format matplotlib accepts.\n",
      "for i in range(len(palette)):\n",
      "    r, g, b = palette[i]\n",
      "    palette[i] = (r / 255., g / 255., b / 255.)"
     ],
     "language": "python",
     "metadata": {},
     "outputs": [],
     "prompt_number": 77
    },
    {
     "cell_type": "heading",
     "level": 3,
     "metadata": {},
     "source": [
      "Graph 1: Alerts By Guardian ID"
     ]
    },
    {
     "cell_type": "code",
     "collapsed": false,
     "input": [
      "# Create a figure of given size. Common sizes: (10, 7.5) and (12, 9)\n",
      "fig = plt.figure(figsize=(10, 7.5))\n",
      "# Add a subplot\n",
      "ax = fig.add_subplot(111)\n",
      "# Set title\n",
      "# ttl = 'Your RFCx Alerts For This Week'\n",
      "# Set color transparency (0: transparent; 1: solid)\n",
      "a = 0.7\n",
      "\n",
      "ax = guid_pivot.plot(kind='barh', stacked=True, color=palette, legend=True, ax=ax, alpha=a,\n",
      "                      edgecolor='w', xlim=(0,guid_pivot_xmax))\n",
      "# Remove the plot frame lines\n",
      "ax = plt.subplot(111)\n",
      "ax.spines[\"top\"].set_visible(False)\n",
      "ax.spines[\"bottom\"].set_visible(False)\n",
      "ax.spines[\"right\"].set_visible(False)\n",
      "ax.spines[\"left\"].set_visible(False)\n",
      "\n",
      "# Ensure that the axis ticks only show up on the bottom and left of the plot.\n",
      "ax.get_xaxis().tick_bottom()\n",
      "ax.get_yaxis().tick_left()\n",
      "# Remove grid lines (dotted lines inside plot)\n",
      "ax.grid(False)\n",
      "# Remove plot frame\n",
      "ax.set_frame_on(False)\n",
      "# Pandas trick: remove weird dotted line on axis\n",
      "ax.lines[0].set_visible(False)\n",
      "\n",
      "# Customize title, set position, allow space on top of plot for title\n",
      "# ax.set_title(ax.get_title(), fontsize=26, alpha=a, ha='left')\n",
      "# plt.subplots_adjust(top=0.9)\n",
      "# ax.title.set_position((0,1.08))\n",
      "\n",
      "# Set x axis label, set label text\n",
      "xlab = 'Incidents Detected'\n",
      "ax.set_xlabel(xlab, fontsize=16, alpha=a, ha='center')\n",
      "\n",
      "# Set y axis label, set label text\n",
      "ylab = 'Guardian Name'\n",
      "ax.set_ylabel(ylab, fontsize=16, alpha=a, ha='center')"
     ],
     "language": "python",
     "metadata": {},
     "outputs": [
      {
       "metadata": {},
       "output_type": "pyout",
       "prompt_number": 78,
       "text": [
        "<matplotlib.text.Text at 0xad42e28c>"
       ]
      },
      {
       "metadata": {},
       "output_type": "display_data",
       "png": "[encoded data removed]",
       "text": [
        "<matplotlib.figure.Figure at 0xad420fac>"
       ]
      }
     ],
     "prompt_number": 78
    },
    {
     "cell_type": "code",
     "collapsed": false,
     "input": [
      "# Save figure as png\n",
      "# TO DO: add tight bounding box\n",
      "plt.savefig('figures/alerts_by_guid.png', dpi=300)"
     ],
     "language": "python",
     "metadata": {},
     "outputs": [
      {
       "metadata": {},
       "output_type": "display_data",
       "text": [
        "<matplotlib.figure.Figure at 0xad41c84c>"
       ]
      }
     ],
     "prompt_number": 79
    },
    {
     "cell_type": "heading",
     "level": 3,
     "metadata": {},
     "source": [
      "Graph 2: Alerts By Hour"
     ]
    },
    {
     "cell_type": "code",
     "collapsed": false,
     "input": [
      "# Create a figure of given size. Common sizes: (10, 7.5) and (12, 9)\n",
      "fig = plt.figure(figsize=(10, 7.5))\n",
      "# Add a subplot\n",
      "ax = fig.add_subplot(111)\n",
      "# Set title\n",
      "# ttl = 'Your Weekly RFCx Alerts By Hour'\n",
      "# Set color transparency (0: transparent; 1: solid)\n",
      "a = 0.7\n",
      "\n",
      "ax = hr_pivot.plot(kind='bar', stacked=True, color=palette, legend=True, ax=ax, alpha=a,\n",
      "                      edgecolor='w', ylim=(0,guid_pivot_xmax/2))\n",
      "# Remove the plot frame lines\n",
      "ax = plt.subplot(111)\n",
      "ax.spines[\"top\"].set_visible(False)\n",
      "ax.spines[\"bottom\"].set_visible(False)\n",
      "ax.spines[\"right\"].set_visible(False)\n",
      "ax.spines[\"left\"].set_visible(False)\n",
      "\n",
      "# Ensure that the axis ticks only show up on the bottom and left of the plot.\n",
      "ax.get_xaxis().tick_bottom()\n",
      "ax.get_yaxis().tick_left()\n",
      "# Remove grid lines (dotted lines inside plot)\n",
      "ax.grid(False)\n",
      "# Remove plot frame\n",
      "ax.set_frame_on(False)\n",
      "# Pandas trick: remove weird dotted line on axis\n",
      "ax.lines[0].set_visible(False)\n",
      "\n",
      "# Set y axis label, set label text\n",
      "ylab = 'Incidents Detected'\n",
      "ax.set_ylabel(ylab, fontsize=16, alpha=a, ha='center')\n",
      "\n",
      "# Set x axis label, set label text\n",
      "xlab = 'Time of Day (2 hours)'\n",
      "ax.set_xlabel(xlab, fontsize=16, alpha=a, ha='center')\n"
     ],
     "language": "python",
     "metadata": {},
     "outputs": [
      {
       "metadata": {},
       "output_type": "pyout",
       "prompt_number": 110,
       "text": [
        "<matplotlib.text.Text at 0xadf3356c>"
       ]
      },
      {
       "metadata": {},
       "output_type": "display_data",
       "png": "[encoded data removed]",
       "text": [
        "<matplotlib.figure.Figure at 0xad89224c>"
       ]
      }
     ],
     "prompt_number": 110
    },
    {
     "cell_type": "code",
     "collapsed": false,
     "input": [
      "# Save figure as png\n",
      "# TO DO: add tight bounding box\n",
      "plt.savefig('figures/alerts_by_hour.png', dpi=300)"
     ],
     "language": "python",
     "metadata": {},
     "outputs": [
      {
       "metadata": {},
       "output_type": "display_data",
       "text": [
        "<matplotlib.figure.Figure at 0xacaea22c>"
       ]
      }
     ],
     "prompt_number": 81
    },
    {
     "cell_type": "heading",
     "level": 3,
     "metadata": {},
     "source": [
      "Graph 3: Alerts By Weekday"
     ]
    },
    {
     "cell_type": "code",
     "collapsed": false,
     "input": [
      "# Create a figure of given size. Common sizes: (10, 7.5) and (12, 9)\n",
      "fig = plt.figure(figsize=(10, 7.5))\n",
      "# Add a subplot\n",
      "ax = fig.add_subplot(111)\n",
      "# Set title\n",
      "# ttl = 'Your RFCx Alerts For This Week'\n",
      "# Set color transparency (0: transparent; 1: solid)\n",
      "a = 0.7\n",
      "\n",
      "ax = day_pivot.plot(kind='barh', stacked=True, color=palette, legend=True, ax=ax, alpha=a,\n",
      "                      edgecolor='w', xlim=(0,guid_pivot_xmax/2))\n",
      "# Remove the plot frame lines\n",
      "ax = plt.subplot(111)\n",
      "ax.spines[\"top\"].set_visible(False)\n",
      "ax.spines[\"bottom\"].set_visible(False)\n",
      "ax.spines[\"right\"].set_visible(False)\n",
      "ax.spines[\"left\"].set_visible(False)\n",
      "\n",
      "# Ensure that the axis ticks only show up on the bottom and left of the plot.\n",
      "ax.get_xaxis().tick_bottom()\n",
      "ax.get_yaxis().tick_left()\n",
      "# Remove grid lines (dotted lines inside plot)\n",
      "ax.grid(False)\n",
      "# Remove plot frame\n",
      "ax.set_frame_on(False)\n",
      "# Pandas trick: remove weird dotted line on axis\n",
      "ax.lines[0].set_visible(False)\n",
      "\n",
      "# Customize title, set position, allow space on top of plot for title\n",
      "# ax.set_title(ax.get_title(), fontsize=26, alpha=a, ha='left')\n",
      "# plt.subplots_adjust(top=0.9)\n",
      "# ax.title.set_position((0,1.08))\n",
      "\n",
      "# Set x axis label, set label text\n",
      "xlab = 'Incidents Detected'\n",
      "ax.set_xlabel(xlab, fontsize=16, alpha=a, ha='center')\n",
      "\n",
      "# Set y axis label, set label text\n",
      "ylab = 'Day of Week'\n",
      "ax.set_ylabel(ylab, fontsize=16, alpha=a, ha='center')\n",
      "\n",
      "ys = sorted(ax.get_yticks())\n",
      "ax.set_yticks(ys)\n",
      "ax.set_yticks([], minor=True)\n",
      "ax.set_yticklabels([weekday_map[d] for d in wd])"
     ],
     "language": "python",
     "metadata": {},
     "outputs": [
      {
       "metadata": {},
       "output_type": "pyout",
       "prompt_number": 109,
       "text": [
        "[<matplotlib.text.Text at 0xad67db4c>,\n",
        " <matplotlib.text.Text at 0xad687a2c>,\n",
        " <matplotlib.text.Text at 0xac950fcc>,\n",
        " <matplotlib.text.Text at 0xac9564ec>,\n",
        " <matplotlib.text.Text at 0xac9569ec>,\n",
        " <matplotlib.text.Text at 0xac956eec>,\n",
        " <matplotlib.text.Text at 0xac95f40c>]"
       ]
      },
      {
       "metadata": {},
       "output_type": "display_data",
       "png": "[encoded data removed]",
       "text": [
        "<matplotlib.figure.Figure at 0xadf2e44c>"
       ]
      }
     ],
     "prompt_number": 109
    },
    {
     "cell_type": "code",
     "collapsed": false,
     "input": [
      "# Save figure as png\n",
      "# TO DO: add tight bounding box\n",
      "plt.savefig('figures/alerts_by_weekday.png', dpi=300)"
     ],
     "language": "python",
     "metadata": {},
     "outputs": [
      {
       "metadata": {},
       "output_type": "display_data",
       "text": [
        "<matplotlib.figure.Figure at 0xad4201ac>"
       ]
      }
     ],
     "prompt_number": 82
    },
    {
     "cell_type": "heading",
     "level": 3,
     "metadata": {},
     "source": [
      "Graph 4: Alerts by Night vs. Day"
     ]
    },
    {
     "cell_type": "code",
     "collapsed": false,
     "input": [
      "# Create a figure of given size. Common sizes: (10, 7.5) and (12, 9)\n",
      "fig = plt.figure(figsize=(10, 7.5))\n",
      "# Add a subplot\n",
      "ax = fig.add_subplot(111)\n",
      "# Set title\n",
      "# ttl = 'Your RFCx Alerts For This Week'\n",
      "# Set color transparency (0: transparent; 1: solid)\n",
      "a = 0.7\n",
      "\n",
      "ax = nightDay_pivot.plot(kind='barh', stacked=False, color=palette, legend=False, ax=ax, alpha=a,\n",
      "                      edgecolor='w', xlim=(0,guid_pivot_xmax))\n",
      "# Remove the plot frame lines\n",
      "ax = plt.subplot(111)\n",
      "ax.spines[\"top\"].set_visible(False)\n",
      "ax.spines[\"bottom\"].set_visible(False)\n",
      "ax.spines[\"right\"].set_visible(False)\n",
      "ax.spines[\"left\"].set_visible(False)\n",
      "\n",
      "# Ensure that the axis ticks only show up on the bottom and left of the plot.\n",
      "ax.get_xaxis().tick_bottom()\n",
      "ax.get_yaxis().tick_left()\n",
      "# Remove grid lines (dotted lines inside plot)\n",
      "ax.grid(False)\n",
      "# Remove plot frame\n",
      "ax.set_frame_on(False)\n",
      "# Pandas trick: remove weird dotted line on axis\n",
      "ax.lines[0].set_visible(False)\n",
      "\n",
      "# Customize title, set position, allow space on top of plot for title\n",
      "# ax.set_title(ax.get_title(), fontsize=26, alpha=a, ha='left')\n",
      "# plt.subplots_adjust(top=0.9)\n",
      "# ax.title.set_position((0,1.08))\n",
      "\n",
      "# Set x axis label, set label text\n",
      "xlab = 'Incidents Detected'\n",
      "ax.set_xlabel(xlab, fontsize=16, alpha=a, ha='center')\n",
      "\n",
      "# Set y axis label, set label text\n",
      "ylab = 'Night vs Day'\n",
      "ax.set_ylabel(ylab, fontsize=16, alpha=a, ha='center')"
     ],
     "language": "python",
     "metadata": {},
     "outputs": [
      {
       "metadata": {},
       "output_type": "pyout",
       "prompt_number": 83,
       "text": [
        "<matplotlib.text.Text at 0xad8df26c>"
       ]
      },
      {
       "metadata": {},
       "output_type": "display_data",
       "png": "[encoded data removed]",
       "text": [
        "<matplotlib.figure.Figure at 0xae9d72cc>"
       ]
      }
     ],
     "prompt_number": 83
    },
    {
     "cell_type": "code",
     "collapsed": false,
     "input": [
      "# Save figure as png\n",
      "# TO DO: add tight bounding box\n",
      "plt.savefig('figures/alerts_by_nightDay.png', dpi=300)"
     ],
     "language": "python",
     "metadata": {},
     "outputs": [
      {
       "metadata": {},
       "output_type": "display_data",
       "text": [
        "<matplotlib.figure.Figure at 0xacb2f50c>"
       ]
      }
     ],
     "prompt_number": 84
    },
    {
     "cell_type": "code",
     "collapsed": false,
     "input": [],
     "language": "python",
     "metadata": {},
     "outputs": [],
     "prompt_number": 84
    }
   ],
   "metadata": {}
  }
 ]
}
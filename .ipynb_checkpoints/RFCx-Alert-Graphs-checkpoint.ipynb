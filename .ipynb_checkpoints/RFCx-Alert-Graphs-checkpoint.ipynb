{
 "metadata": {
  "name": "",
  "signature": "sha256:595bfa2868e639113ced1ad455036228cf0ca583d9471926348a44644e1e5052"
 },
 "nbformat": 3,
 "nbformat_minor": 0,
 "worksheets": [
  {
   "cells": [
    {
     "cell_type": "heading",
     "level": 3,
     "metadata": {},
     "source": [
      "Load packages and data into Python for manipluation"
     ]
    },
    {
     "cell_type": "code",
     "collapsed": false,
     "input": [
      "%pylab inline\n",
      "import json\n",
      "import pandas as pd\n",
      "import numpy as np\n",
      "import matplotlib.pyplot as plt"
     ],
     "language": "python",
     "metadata": {},
     "outputs": [
      {
       "output_type": "stream",
       "stream": "stdout",
       "text": [
        "Populating the interactive namespace from numpy and matplotlib\n"
       ]
      }
     ],
     "prompt_number": 60
    },
    {
     "cell_type": "code",
     "collapsed": false,
     "input": [
      "# script parameters for tweaking graph looks \n",
      "guid_pivot_xmax = 15 # x-axis limit for guid graph"
     ],
     "language": "python",
     "metadata": {},
     "outputs": [],
     "prompt_number": 61
    },
    {
     "cell_type": "code",
     "collapsed": false,
     "input": [
      "# placeholder JSON data for dev work\n",
      "json_obj = \"\"\"\n",
      "[\n",
      "{\"alert_datetime\":\"01/30/2015 09:00:00\", \"guid\":\"A\", \"sound_type\":\"truck\"},\n",
      "{\"alert_datetime\":\"01/26/2015 05:00:00\", \"guid\":\"A\", \"sound_type\":\"truck\"},\n",
      "{\"alert_datetime\":\"01/31/2015 11:00:00\", \"guid\":\"A\", \"sound_type\":\"truck\"},\n",
      "{\"alert_datetime\":\"01/25/2015 17:00:00\", \"guid\":\"A\", \"sound_type\":\"motorcycle\"},\n",
      "{\"alert_datetime\":\"01/27/2015 08:00:00\", \"guid\":\"A\", \"sound_type\":\"truck\"},\n",
      "{\"alert_datetime\":\"01/25/2015 13:10:00\", \"guid\":\"B\", \"sound_type\":\"truck\"},\n",
      "{\"alert_datetime\":\"01/26/2015 22:00:00\", \"guid\":\"B\", \"sound_type\":\"motorcycle\"},\n",
      "{\"alert_datetime\":\"01/29/2015 16:00:00\", \"guid\":\"B\", \"sound_type\":\"truck\"},\n",
      "{\"alert_datetime\":\"01/31/2015 12:00:00\", \"guid\":\"B\", \"sound_type\":\"truck\"},\n",
      "{\"alert_datetime\":\"01/26/2015 15:00:00\", \"guid\":\"B\", \"sound_type\":\"truck\"},\n",
      "{\"alert_datetime\":\"01/26/2015 18:00:00\", \"guid\":\"B\", \"sound_type\":\"truck\"},\n",
      "{\"alert_datetime\":\"01/29/2015 12:00:00\", \"guid\":\"B\", \"sound_type\":\"motorcycle\"},\n",
      "{\"alert_datetime\":\"01/28/2015 14:00:00\", \"guid\":\"B\", \"sound_type\":\"truck\"},\n",
      "{\"alert_datetime\":\"01/25/2015 13:00:00\", \"guid\":\"B\", \"sound_type\":\"truck\"},\n",
      "{\"alert_datetime\":\"01/29/2015 08:00:00\", \"guid\":\"C\", \"sound_type\":\"motorcycle\"},\n",
      "{\"alert_datetime\":\"01/27/2015 20:00:00\", \"guid\":\"C\", \"sound_type\":\"truck\"},\n",
      "{\"alert_datetime\":\"01/28/2015 19:00:00\", \"guid\":\"C\", \"sound_type\":\"truck\"},\n",
      "{\"alert_datetime\":\"01/31/2015 06:00:00\", \"guid\":\"C\", \"sound_type\":\"truck\"},\n",
      "{\"alert_datetime\":\"01/27/2015 21:00:00\", \"guid\":\"C\", \"sound_type\":\"truck\"}\n",
      "]\n",
      "\"\"\""
     ],
     "language": "python",
     "metadata": {},
     "outputs": [],
     "prompt_number": 62
    },
    {
     "cell_type": "code",
     "collapsed": false,
     "input": [
      "# Load the JSON data into a Pandas DataFrame\n",
      "data = json.loads(json_obj)\n",
      "df = pd.io.json.json_normalize(data)\n",
      "# Ensure column types are cast correctly\n",
      "df['alert_datetime'] = pd.to_datetime(df['alert_datetime'])\n",
      "df['guid'] = df['guid'].astype(str)"
     ],
     "language": "python",
     "metadata": {},
     "outputs": [],
     "prompt_number": 84
    },
    {
     "cell_type": "code",
     "collapsed": false,
     "input": [
      "# Create weekday/hours data and labels from alert timestamp\n",
      "weekdays = 'Mon Tue Wed Thu Fri Sat Sun'.split()\n",
      "hours = range(0,24,2)\n",
      "df['weekday'] = df['alert_datetime'].map(lambda x: x.isocalendar()[1])\n",
      "df['hour'] = df['alert_datetime'].map(lambda y: y.hour)\n",
      "df['day_night'] = df[hour].map(lambda z: return 'night' if (z < 5 or z > 18) return 'day')"
     ],
     "language": "python",
     "metadata": {},
     "outputs": [
      {
       "ename": "SyntaxError",
       "evalue": "invalid syntax (<ipython-input-86-52bc934a536a>, line 6)",
       "output_type": "pyerr",
       "traceback": [
        "\u001b[1;36m  File \u001b[1;32m\"<ipython-input-86-52bc934a536a>\"\u001b[1;36m, line \u001b[1;32m6\u001b[0m\n\u001b[1;33m    df['day_night'] = df[hour].map(lambda z: return 'night' if (z < 5 or z > 18) return 'day')\u001b[0m\n\u001b[1;37m                                                  ^\u001b[0m\n\u001b[1;31mSyntaxError\u001b[0m\u001b[1;31m:\u001b[0m invalid syntax\n"
       ]
      }
     ],
     "prompt_number": 86
    },
    {
     "cell_type": "code",
     "collapsed": false,
     "input": [
      "# Quick reference to unique lists of various columns\n",
      "types = sorted(list(set(df['sound_type'])))\n",
      "guids = sorted(list(set(df['guid'])))\n",
      "dates = sorted(list(set(df['alert_datetime'])))"
     ],
     "language": "python",
     "metadata": {},
     "outputs": [],
     "prompt_number": 87
    },
    {
     "cell_type": "heading",
     "level": 3,
     "metadata": {},
     "source": [
      "Create pivot tables of data"
     ]
    },
    {
     "cell_type": "code",
     "collapsed": false,
     "input": [
      "# create pivot tables of data for plotting\n",
      "# data sorted by guid name\n",
      "guid_pivot = df.pivot_table(index=['guid'], columns=['sound_type'],\n",
      "                            values=['alert_datetime'], aggfunc='count').fillna(0)\n",
      "guid_pivot"
     ],
     "language": "python",
     "metadata": {},
     "outputs": [
      {
       "html": [
        "<div style=\"max-height:1000px;max-width:1500px;overflow:auto;\">\n",
        "<table border=\"1\" class=\"dataframe\">\n",
        "  <thead>\n",
        "    <tr>\n",
        "      <th></th>\n",
        "      <th colspan=\"2\" halign=\"left\">alert_datetime</th>\n",
        "    </tr>\n",
        "    <tr>\n",
        "      <th>sound_type</th>\n",
        "      <th>motorcycle</th>\n",
        "      <th>truck</th>\n",
        "    </tr>\n",
        "    <tr>\n",
        "      <th>guid</th>\n",
        "      <th></th>\n",
        "      <th></th>\n",
        "    </tr>\n",
        "  </thead>\n",
        "  <tbody>\n",
        "    <tr>\n",
        "      <th>A</th>\n",
        "      <td> 1</td>\n",
        "      <td> 4</td>\n",
        "    </tr>\n",
        "    <tr>\n",
        "      <th>B</th>\n",
        "      <td> 2</td>\n",
        "      <td> 7</td>\n",
        "    </tr>\n",
        "    <tr>\n",
        "      <th>C</th>\n",
        "      <td> 1</td>\n",
        "      <td> 4</td>\n",
        "    </tr>\n",
        "  </tbody>\n",
        "</table>\n",
        "</div>"
       ],
       "metadata": {},
       "output_type": "pyout",
       "prompt_number": 74,
       "text": [
        "           alert_datetime      \n",
        "sound_type     motorcycle truck\n",
        "guid                           \n",
        "A                       1     4\n",
        "B                       2     7\n",
        "C                       1     4"
       ]
      }
     ],
     "prompt_number": 74
    },
    {
     "cell_type": "code",
     "collapsed": false,
     "input": [
      "# data sorted by hour of day\n",
      "hr_pivot = df.pivot_table(  index=['hour'], columns=['sound_type'],\n",
      "                            values=['alert_datetime'], aggfunc='count').fillna(0)\n",
      "hr_pivot"
     ],
     "language": "python",
     "metadata": {},
     "outputs": [
      {
       "html": [
        "<div style=\"max-height:1000px;max-width:1500px;overflow:auto;\">\n",
        "<table border=\"1\" class=\"dataframe\">\n",
        "  <thead>\n",
        "    <tr>\n",
        "      <th></th>\n",
        "      <th colspan=\"2\" halign=\"left\">alert_datetime</th>\n",
        "    </tr>\n",
        "    <tr>\n",
        "      <th>sound_type</th>\n",
        "      <th>motorcycle</th>\n",
        "      <th>truck</th>\n",
        "    </tr>\n",
        "    <tr>\n",
        "      <th>hour</th>\n",
        "      <th></th>\n",
        "      <th></th>\n",
        "    </tr>\n",
        "  </thead>\n",
        "  <tbody>\n",
        "    <tr>\n",
        "      <th>5 </th>\n",
        "      <td> 0</td>\n",
        "      <td> 1</td>\n",
        "    </tr>\n",
        "    <tr>\n",
        "      <th>6 </th>\n",
        "      <td> 0</td>\n",
        "      <td> 1</td>\n",
        "    </tr>\n",
        "    <tr>\n",
        "      <th>8 </th>\n",
        "      <td> 1</td>\n",
        "      <td> 1</td>\n",
        "    </tr>\n",
        "    <tr>\n",
        "      <th>9 </th>\n",
        "      <td> 0</td>\n",
        "      <td> 1</td>\n",
        "    </tr>\n",
        "    <tr>\n",
        "      <th>11</th>\n",
        "      <td> 0</td>\n",
        "      <td> 1</td>\n",
        "    </tr>\n",
        "    <tr>\n",
        "      <th>12</th>\n",
        "      <td> 1</td>\n",
        "      <td> 1</td>\n",
        "    </tr>\n",
        "    <tr>\n",
        "      <th>13</th>\n",
        "      <td> 0</td>\n",
        "      <td> 2</td>\n",
        "    </tr>\n",
        "    <tr>\n",
        "      <th>14</th>\n",
        "      <td> 0</td>\n",
        "      <td> 1</td>\n",
        "    </tr>\n",
        "    <tr>\n",
        "      <th>15</th>\n",
        "      <td> 0</td>\n",
        "      <td> 1</td>\n",
        "    </tr>\n",
        "    <tr>\n",
        "      <th>16</th>\n",
        "      <td> 0</td>\n",
        "      <td> 1</td>\n",
        "    </tr>\n",
        "    <tr>\n",
        "      <th>17</th>\n",
        "      <td> 1</td>\n",
        "      <td> 0</td>\n",
        "    </tr>\n",
        "    <tr>\n",
        "      <th>18</th>\n",
        "      <td> 0</td>\n",
        "      <td> 1</td>\n",
        "    </tr>\n",
        "    <tr>\n",
        "      <th>19</th>\n",
        "      <td> 0</td>\n",
        "      <td> 1</td>\n",
        "    </tr>\n",
        "    <tr>\n",
        "      <th>20</th>\n",
        "      <td> 0</td>\n",
        "      <td> 1</td>\n",
        "    </tr>\n",
        "    <tr>\n",
        "      <th>21</th>\n",
        "      <td> 0</td>\n",
        "      <td> 1</td>\n",
        "    </tr>\n",
        "    <tr>\n",
        "      <th>22</th>\n",
        "      <td> 1</td>\n",
        "      <td> 0</td>\n",
        "    </tr>\n",
        "  </tbody>\n",
        "</table>\n",
        "</div>"
       ],
       "metadata": {},
       "output_type": "pyout",
       "prompt_number": 77,
       "text": [
        "           alert_datetime      \n",
        "sound_type     motorcycle truck\n",
        "hour                           \n",
        "5                       0     1\n",
        "6                       0     1\n",
        "8                       1     1\n",
        "9                       0     1\n",
        "11                      0     1\n",
        "12                      1     1\n",
        "13                      0     2\n",
        "14                      0     1\n",
        "15                      0     1\n",
        "16                      0     1\n",
        "17                      1     0\n",
        "18                      0     1\n",
        "19                      0     1\n",
        "20                      0     1\n",
        "21                      0     1\n",
        "22                      1     0"
       ]
      }
     ],
     "prompt_number": 77
    },
    {
     "cell_type": "code",
     "collapsed": false,
     "input": [
      "# data sorted by day of week\n",
      "day_pivot = df.pivot_table(   index=['weekday'], columns=['sound_type'],\n",
      "                                values=['alert_datetime'], aggfunc='count').fillna(0)\n",
      "day_pivot"
     ],
     "language": "python",
     "metadata": {},
     "outputs": [
      {
       "html": [
        "<div style=\"max-height:1000px;max-width:1500px;overflow:auto;\">\n",
        "<table border=\"1\" class=\"dataframe\">\n",
        "  <thead>\n",
        "    <tr>\n",
        "      <th></th>\n",
        "      <th colspan=\"2\" halign=\"left\">alert_datetime</th>\n",
        "    </tr>\n",
        "    <tr>\n",
        "      <th>sound_type</th>\n",
        "      <th>motorcycle</th>\n",
        "      <th>truck</th>\n",
        "    </tr>\n",
        "    <tr>\n",
        "      <th>week</th>\n",
        "      <th></th>\n",
        "      <th></th>\n",
        "    </tr>\n",
        "  </thead>\n",
        "  <tbody>\n",
        "    <tr>\n",
        "      <th>4</th>\n",
        "      <td> 1</td>\n",
        "      <td>  2</td>\n",
        "    </tr>\n",
        "    <tr>\n",
        "      <th>5</th>\n",
        "      <td> 3</td>\n",
        "      <td> 13</td>\n",
        "    </tr>\n",
        "  </tbody>\n",
        "</table>\n",
        "</div>"
       ],
       "metadata": {},
       "output_type": "pyout",
       "prompt_number": 83,
       "text": [
        "           alert_datetime      \n",
        "sound_type     motorcycle truck\n",
        "week                           \n",
        "4                       1     2\n",
        "5                       3    13"
       ]
      }
     ],
     "prompt_number": 83
    },
    {
     "cell_type": "heading",
     "level": 3,
     "metadata": {},
     "source": [
      "Plot the data into figures"
     ]
    },
    {
     "cell_type": "code",
     "collapsed": false,
     "input": [
      "# Create a colormap from the \"Tableau Color Blind 10\" color scheme.\n",
      "palette = [ (0,107,164),(255,128,14),(171,171,171),(89,89,89),(95,158,209),\n",
      "            (200,82,0),(137,137,137),(162,200,236),(255,188,121),(207,207,207)]\n",
      "# Scale the RGB values to the [0, 1] range, which is the format matplotlib accepts.\n",
      "for i in range(len(palette)):\n",
      "    r, g, b = palette[i]\n",
      "    palette[i] = (r / 255., g / 255., b / 255.)"
     ],
     "language": "python",
     "metadata": {},
     "outputs": [],
     "prompt_number": 67
    },
    {
     "cell_type": "heading",
     "level": 3,
     "metadata": {},
     "source": [
      "Graph 1: Alerts By Guardian ID"
     ]
    },
    {
     "cell_type": "code",
     "collapsed": false,
     "input": [
      "# Create a figure of given size. Common sizes: (10, 7.5) and (12, 9)\n",
      "fig = plt.figure(figsize=(10, 7.5))\n",
      "# Add a subplot\n",
      "ax = fig.add_subplot(111)\n",
      "# Set title\n",
      "# ttl = 'Your RFCx Alerts For This Week'\n",
      "# Set color transparency (0: transparent; 1: solid)\n",
      "a = 0.7\n",
      "\n",
      "ax = guid_pivot.plot(kind='barh', stacked=True, color=palette, legend=True, ax=ax, alpha=a,\n",
      "                      edgecolor='w', xlim=(0,guid_pivot_xmax))\n",
      "# Remove the plot frame lines\n",
      "ax = plt.subplot(111)\n",
      "ax.spines[\"top\"].set_visible(False)\n",
      "ax.spines[\"bottom\"].set_visible(False)\n",
      "ax.spines[\"right\"].set_visible(False)\n",
      "ax.spines[\"left\"].set_visible(False)\n",
      "\n",
      "# Ensure that the axis ticks only show up on the bottom and left of the plot.\n",
      "ax.get_xaxis().tick_bottom()\n",
      "ax.get_yaxis().tick_left()\n",
      "# Remove grid lines (dotted lines inside plot)\n",
      "ax.grid(False)\n",
      "# Remove plot frame\n",
      "ax.set_frame_on(False)\n",
      "# Pandas trick: remove weird dotted line on axis\n",
      "ax.lines[0].set_visible(False)\n",
      "\n",
      "# Customize title, set position, allow space on top of plot for title\n",
      "# ax.set_title(ax.get_title(), fontsize=26, alpha=a, ha='left')\n",
      "# plt.subplots_adjust(top=0.9)\n",
      "# ax.title.set_position((0,1.08))\n",
      "\n",
      "# Set x axis label, set label text\n",
      "xlab = 'Incidents Detected'\n",
      "ax.set_xlabel(xlab, fontsize=16, alpha=a, ha='center')\n",
      "\n",
      "# Set y axis label, set label text\n",
      "ylab = 'Guardian Name'\n",
      "ax.set_ylabel(ylab, fontsize=16, alpha=a, ha='center')"
     ],
     "language": "python",
     "metadata": {},
     "outputs": [
      {
       "metadata": {},
       "output_type": "pyout",
       "prompt_number": 68,
       "text": [
        "<matplotlib.text.Text at 0xab48732c>"
       ]
      },
      {
       "metadata": {},
       "output_type": "display_data",
       "png": "[encoded data removed]",
       "text": [
        "<matplotlib.figure.Figure at 0xab42ad4c>"
       ]
      }
     ],
     "prompt_number": 68
    },
    {
     "cell_type": "code",
     "collapsed": false,
     "input": [
      "# Save figure as png\n",
      "# TO DO: add tight bounding box\n",
      "plt.savefig('/home/kak9699/Documents/code/figures/alerts_by_guid.png', dpi=300)"
     ],
     "language": "python",
     "metadata": {},
     "outputs": [
      {
       "metadata": {},
       "output_type": "display_data",
       "text": [
        "<matplotlib.figure.Figure at 0xac87f5ec>"
       ]
      }
     ],
     "prompt_number": 69
    },
    {
     "cell_type": "heading",
     "level": 3,
     "metadata": {},
     "source": [
      "Graph 2: Alerts By Hour"
     ]
    },
    {
     "cell_type": "code",
     "collapsed": false,
     "input": [
      "# Create a figure of given size. Common sizes: (10, 7.5) and (12, 9)\n",
      "fig = plt.figure(figsize=(10, 7.5))\n",
      "# Add a subplot\n",
      "ax = fig.add_subplot(111)\n",
      "# Set title\n",
      "# ttl = 'Your Weekly RFCx Alerts By Hour'\n",
      "# Set color transparency (0: transparent; 1: solid)\n",
      "a = 0.7\n",
      "\n",
      "ax = hr_pivot.plot(kind='barh', stacked=True, color=palette, legend=True, ax=ax, alpha=a,\n",
      "                      edgecolor='w', ylim=(0,23), xlim=(0,guid_pivot_xmax))\n",
      "# Remove the plot frame lines\n",
      "ax = plt.subplot(111)\n",
      "ax.spines[\"top\"].set_visible(False)\n",
      "ax.spines[\"bottom\"].set_visible(False)\n",
      "ax.spines[\"right\"].set_visible(False)\n",
      "ax.spines[\"left\"].set_visible(False)\n",
      "\n",
      "# Ensure that the axis ticks only show up on the bottom and left of the plot.\n",
      "ax.get_xaxis().tick_bottom()\n",
      "ax.get_yaxis().tick_left()\n",
      "# Remove grid lines (dotted lines inside plot)\n",
      "ax.grid(False)\n",
      "# Remove plot frame\n",
      "ax.set_frame_on(False)\n",
      "# Pandas trick: remove weird dotted line on axis\n",
      "ax.lines[0].set_visible(False)\n",
      "\n",
      "# Customize title, set position, allow space on top of plot for title\n",
      "# ax.set_title(ax.get_title(), fontsize=26, alpha=a, ha='left')\n",
      "# plt.subplots_adjust(top=0.9)\n",
      "# ax.title.set_position((0,1.08))\n",
      "\n",
      "# Set x axis label, set label text\n",
      "xlab = 'Incidents Detected'\n",
      "ax.set_xlabel(xlab, fontsize=16, alpha=a, ha='center')\n",
      "\n",
      "# Set y axis label, set label text\n",
      "ylab = 'Time of Day (hour)'\n",
      "ax.set_ylabel(ylab, fontsize=16, alpha=a, ha='center')\n"
     ],
     "language": "python",
     "metadata": {},
     "outputs": [
      {
       "metadata": {},
       "output_type": "pyout",
       "prompt_number": 70,
       "text": [
        "<matplotlib.text.Text at 0xac8c230c>"
       ]
      },
      {
       "metadata": {},
       "output_type": "display_data",
       "png": "[encoded data removed]",
       "text": [
        "<matplotlib.figure.Figure at 0xac7ecdac>"
       ]
      }
     ],
     "prompt_number": 70
    },
    {
     "cell_type": "code",
     "collapsed": false,
     "input": [
      "# Save figure as png\n",
      "# TO DO: add tight bounding box\n",
      "plt.savefig('/home/kak9699/Documents/code/figures/alerts_by_hour.png', dpi=300)"
     ],
     "language": "python",
     "metadata": {},
     "outputs": [
      {
       "metadata": {},
       "output_type": "display_data",
       "text": [
        "<matplotlib.figure.Figure at 0xa89d7ecc>"
       ]
      }
     ],
     "prompt_number": 71
    },
    {
     "cell_type": "heading",
     "level": 3,
     "metadata": {},
     "source": [
      "Graph 3: Alerts By Weekday"
     ]
    },
    {
     "cell_type": "code",
     "collapsed": false,
     "input": [],
     "language": "python",
     "metadata": {},
     "outputs": [],
     "prompt_number": 71
    },
    {
     "cell_type": "code",
     "collapsed": false,
     "input": [
      "# Save figure as png\n",
      "# TO DO: add tight bounding box\n",
      "plt.savefig('/home/kak9699/Documents/code/figures/alerts_by_weekday.png', dpi=300)"
     ],
     "language": "python",
     "metadata": {},
     "outputs": [
      {
       "metadata": {},
       "output_type": "display_data",
       "text": [
        "<matplotlib.figure.Figure at 0xac8aa14c>"
       ]
      }
     ],
     "prompt_number": 72
    }
   ],
   "metadata": {}
  }
 ]
}
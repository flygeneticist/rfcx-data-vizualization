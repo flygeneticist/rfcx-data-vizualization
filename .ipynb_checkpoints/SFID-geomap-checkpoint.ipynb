{
 "metadata": {
  "name": "",
  "signature": "sha256:31af36a2c1c9e72286ea0864147bee0c1ddd9297eadbbb7551b0e8da2d920a40"
 },
 "nbformat": 3,
 "nbformat_minor": 0,
 "worksheets": [
  {
   "cells": [
    {
     "cell_type": "code",
     "collapsed": false,
     "input": [
      "from lxml import etree\n",
      "import pandas as pd\n",
      "import numpy as np\n",
      "import matplotlib.pyplot as plt\n",
      "import matplotlib.cm as cm\n",
      "from matplotlib.colors import Normalize\n",
      "from matplotlib.collections import PatchCollection\n",
      "from mpl_toolkits.basemap import Basemap\n",
      "from shapely.geometry import Point, Polygon, MultiPoint, MultiPolygon\n",
      "from shapely.prepared import prep\n",
      "from pysal.esda.mapclassify import Natural_Breaks as nb\n",
      "from descartes import PolygonPatch\n",
      "# import fiona\n",
      "from itertools import chain"
     ],
     "language": "python",
     "metadata": {},
     "outputs": [],
     "prompt_number": 16
    },
    {
     "cell_type": "code",
     "collapsed": false,
     "input": [],
     "language": "python",
     "metadata": {},
     "outputs": [],
     "prompt_number": 4
    },
    {
     "cell_type": "code",
     "collapsed": false,
     "input": [],
     "language": "python",
     "metadata": {},
     "outputs": []
    }
   ],
   "metadata": {}
  }
 ]
}